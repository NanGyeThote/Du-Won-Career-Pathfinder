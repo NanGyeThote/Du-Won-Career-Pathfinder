{
 "cells": [
  {
   "cell_type": "code",
   "execution_count": 1,
   "id": "3a1aed5f-67b7-4fc6-a609-2746842f173c",
   "metadata": {},
   "outputs": [],
   "source": [
    "import json \n",
    "import os"
   ]
  },
  {
   "cell_type": "code",
   "execution_count": 2,
   "id": "4677dfa5-a8f6-4810-a29c-cdf3de6caa18",
   "metadata": {},
   "outputs": [],
   "source": [
    "with open('career_kb.json', 'rt', encoding='utf-8') as f_out:\n",
    "    list_dict = json.load(f_out)"
   ]
  },
  {
   "cell_type": "code",
   "execution_count": 3,
   "id": "4c6c0dbd-03fc-4b5f-bae2-c7fe27a35c50",
   "metadata": {},
   "outputs": [],
   "source": [
    "chunks_file = {}\n",
    "for items in list_dict:\n",
    "    career = items['career']\n",
    "    data = items['text']\n",
    "\n",
    "    if career not in chunks_file:\n",
    "        chunks_file[career] = data\n",
    "    else:\n",
    "        chunks_file[career] += ' ' + data"
   ]
  },
  {
   "cell_type": "code",
   "execution_count": 4,
   "id": "ffa5cf8f-1c44-481f-91f1-c8e8008be15b",
   "metadata": {},
   "outputs": [
    {
     "data": {
      "text/plain": [
       "{'career': 'Data Engineer',\n",
       " 'section': 'အလုပ်အကိုင်အကြောင်းအရာ',\n",
       " 'text': 'ဒေတာအင်ဂျင်နီယာသည် ဒေတာစနစ်များကိုဖန်တီး၊ တိုးတက်စေခြင်းနှင့် ထိန်းသိမ်းခြင်းအတွက် တာဝန်ရှိသူဖြစ်သည်။ သူတို့သည် ဒေတာအရင်းအမြစ်များကို စုဆောင်း၊ သန့်စင်ခြင်းနှင့် များစွာသော ဒေတာများကို ထိန်းသိမ်းရန်အတွက် အင်ဂျင်နီယာနည်းပညာများကို အသုံးပြုသည်။'}"
      ]
     },
     "execution_count": 4,
     "metadata": {},
     "output_type": "execute_result"
    }
   ],
   "source": [
    "list_dict[0]"
   ]
  },
  {
   "cell_type": "code",
   "execution_count": 5,
   "id": "96a6f636-8021-4c3a-8f0c-f6104fb11234",
   "metadata": {},
   "outputs": [],
   "source": [
    "str = chunks_file['Front-end Developer']"
   ]
  },
  {
   "cell_type": "code",
   "execution_count": 6,
   "id": "68d17c4f-af88-4639-9054-9feb36350e29",
   "metadata": {},
   "outputs": [],
   "source": [
    "from mistralai import Mistral\n",
    "from dotenv import load_dotenv"
   ]
  },
  {
   "cell_type": "code",
   "execution_count": 10,
   "id": "cf13b5cf-8acf-465b-b888-98db4d1bdac4",
   "metadata": {},
   "outputs": [],
   "source": [
    "api_key = os.getenv('MISTRAL_API_KEY')"
   ]
  },
  {
   "cell_type": "code",
   "execution_count": null,
   "id": "319d42aa-c0cc-4798-9269-c634def307e2",
   "metadata": {},
   "outputs": [],
   "source": []
  }
 ],
 "metadata": {
  "kernelspec": {
   "display_name": "Python 3 (ipykernel)",
   "language": "python",
   "name": "python3"
  },
  "language_info": {
   "codemirror_mode": {
    "name": "ipython",
    "version": 3
   },
   "file_extension": ".py",
   "mimetype": "text/x-python",
   "name": "python",
   "nbconvert_exporter": "python",
   "pygments_lexer": "ipython3",
   "version": "3.11.7"
  }
 },
 "nbformat": 4,
 "nbformat_minor": 5
}
