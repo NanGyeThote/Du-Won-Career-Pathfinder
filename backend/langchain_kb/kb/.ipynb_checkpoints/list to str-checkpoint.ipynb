{
 "cells": [
  {
   "cell_type": "code",
   "execution_count": 1,
   "id": "eb6c4129-cdb3-49a6-87da-cb2c0f719071",
   "metadata": {},
   "outputs": [],
   "source": [
    "import json\n",
    "import os\n"
   ]
  },
  {
   "cell_type": "code",
   "execution_count": 2,
   "id": "a18300e3-b909-485e-9e96-f944830c02e3",
   "metadata": {},
   "outputs": [],
   "source": [
    "with open('career_kb.json', 'rt', encoding='utf-8') as f_out:\n",
    "    list_file = json.load(f_out)"
   ]
  },
  {
   "cell_type": "code",
   "execution_count": 20,
   "id": "c2d4fde3-5d3c-4bdb-b943-ab290ad94e7a",
   "metadata": {},
   "outputs": [],
   "source": [
    "context = \"\"\n",
    "chunks_file = {}\n",
    "for raw in list_file:\n",
    "    context = context + raw['text']\n",
    "    \n",
    "new_dict[raw['career']] = context"
   ]
  },
  {
   "cell_type": "code",
   "execution_count": null,
   "id": "32d69b1f-bea2-4ec8-94bb-c1b1939d7a87",
   "metadata": {},
   "outputs": [],
   "source": []
  }
 ],
 "metadata": {
  "kernelspec": {
   "display_name": "Python 3 (ipykernel)",
   "language": "python",
   "name": "python3"
  },
  "language_info": {
   "codemirror_mode": {
    "name": "ipython",
    "version": 3
   },
   "file_extension": ".py",
   "mimetype": "text/x-python",
   "name": "python",
   "nbconvert_exporter": "python",
   "pygments_lexer": "ipython3",
   "version": "3.11.7"
  }
 },
 "nbformat": 4,
 "nbformat_minor": 5
}
